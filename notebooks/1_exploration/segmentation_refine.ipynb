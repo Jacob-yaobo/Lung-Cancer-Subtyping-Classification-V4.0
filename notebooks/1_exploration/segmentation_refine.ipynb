{
 "cells": [
  {
   "cell_type": "code",
   "execution_count": null,
   "id": "ddd944c3",
   "metadata": {},
   "outputs": [],
   "source": [
    "import numpy as np\n",
    "\n",
    "from nnunetv2.evaluation.evaluate_predictions import region_or_label_to_mask\n",
    "from acvl_utils.morphology.morphology_helper import remove_all_but_largest_component\n",
    "\n",
    "from typing import Union, Tuple, List"
   ]
  },
  {
   "cell_type": "code",
   "execution_count": null,
   "id": "4e9113b9",
   "metadata": {},
   "outputs": [],
   "source": [
    "def remove_all_but_largest_component_from_segmentation(\n",
    "    segmentation: np.ndarray,\n",
    "    labels_or_regions: Union[int, Tuple[int, ...], List[Union[int, Tuple[int, ...]]]],\n",
    "    background_label: int = 0,\n",
    ") -> np.ndarray:\n",
    "    mask = np.zeros_like(segmentation, dtype=bool)\n",
    "    if not isinstance(labels_or_regions, list):\n",
    "        labels_or_regions = [labels_or_regions]\n",
    "    for l_or_r in labels_or_regions:\n",
    "        mask |= region_or_label_to_mask(segmentation, l_or_r)\n",
    "    mask_keep = remove_all_but_largest_component(mask)\n",
    "    ret = np.copy(segmentation)  # do not modify the input!\n",
    "    ret[mask & ~mask_keep] = background_label\n",
    "    return ret"
   ]
  },
  {
   "cell_type": "markdown",
   "id": "93f0ca44",
   "metadata": {},
   "source": [
    "### 2. Segmentation Refinement Function\n",
    "\n",
    "This function combines Otsu's thresholding with the largest connected component analysis to refine a coarse initial mask (like a bounding box) into a precise segmentation."
   ]
  },
  {
   "cell_type": "code",
   "execution_count": null,
   "id": "727bea2d",
   "metadata": {},
   "outputs": [],
   "source": [
    "import SimpleITK as sitk\n",
    "from skimage.filters import threshold_otsu\n",
    "\n",
    "def refine_segmentation_with_otsu(\n",
    "    image_sitk: sitk.Image, \n",
    "    initial_mask_sitk: sitk.Image\n",
    ") -> sitk.Image:\n",
    "    \"\"\"\n",
    "    Refines a segmentation mask using Otsu's thresholding and largest connected component analysis.\n",
    "    This version accepts and returns SimpleITK images to preserve metadata.\n",
    "\n",
    "    Args:\n",
    "        image_sitk (sitk.Image): The grayscale SimpleITK image (e.g., CT or PET).\n",
    "        initial_mask_sitk (sitk.Image): A SimpleITK binary mask indicating the region of interest (e.g., a bounding box).\n",
    "\n",
    "    Returns:\n",
    "        sitk.Image: The refined binary segmentation mask as a SimpleITK image.\n",
    "    \"\"\"\n",
    "    # Convert SimpleITK images to NumPy arrays for processing\n",
    "    # Note: sitk.GetArrayFromImage swaps the axis order (Z, Y, X)\n",
    "    image_np = sitk.GetArrayFromImage(image_sitk)\n",
    "    initial_mask_np = sitk.GetArrayFromImage(initial_mask_sitk)\n",
    "\n",
    "    # Ensure the initial mask is boolean\n",
    "    initial_mask_np = initial_mask_np.astype(bool)\n",
    "    \n",
    "    # Step 1: Apply Otsu's thresholding ONLY to the region of interest\n",
    "    pixels_in_roi = image_np[initial_mask_np]\n",
    "    \n",
    "    if pixels_in_roi.size == 0:\n",
    "        # Return an empty sitk image with correct metadata if the mask is empty\n",
    "        refined_mask_np = np.zeros_like(image_np, dtype=np.uint8)\n",
    "    else:\n",
    "        otsu_thresh = threshold_otsu(pixels_in_roi)\n",
    "        \n",
    "        # Step 2: Create a binary mask and limit it to the initial ROI\n",
    "        binary_mask = image_np > otsu_thresh\n",
    "        binary_mask[~initial_mask_np] = 0\n",
    "        \n",
    "        # Step 3: Keep only the largest connected component\n",
    "        refined_mask_np = remove_all_but_largest_component_from_segmentation(binary_mask, labels_or_regions=1)\n",
    "        refined_mask_np = refined_mask_np.astype(np.uint8)\n",
    "\n",
    "    # Convert the resulting NumPy array back to a SimpleITK image\n",
    "    refined_mask_sitk = sitk.GetImageFromArray(refined_mask_np)\n",
    "    \n",
    "    # Copy metadata (origin, spacing, direction) from the original image\n",
    "    refined_mask_sitk.CopyInformation(image_sitk)\n",
    "    \n",
    "    return refined_mask_sitk\n"
   ]
  },
  {
   "cell_type": "markdown",
   "id": "8932890c",
   "metadata": {},
   "source": [
    "#### 单个样本的测试"
   ]
  },
  {
   "cell_type": "code",
   "execution_count": null,
   "id": "73e8f35b",
   "metadata": {},
   "outputs": [],
   "source": [
    "import os \n",
    "\n",
    "root_dir = '../../data/0_nifti'\n",
    "subject_id = 'sub-AKHABDALLAADELAHMED20091023'\n",
    "out_dir = root_dir\n",
    "\n",
    "pet_path = os.path.join(root_dir, subject_id, f'{subject_id}_pet.nii.gz')\n",
    "lesion_mask_path = os.path.join(root_dir, subject_id, f'{subject_id}_seg-lesion.nii.gz')\n",
    "\n",
    "if os.path.exists(pet_path) and os.path.exists(lesion_mask_path):\n",
    "    print(f'Processing {subject_id}...')\n",
    "    pet_sitk = sitk.ReadImage(pet_path)\n",
    "    lesion_mask_sitk = sitk.ReadImage(lesion_mask_path)\n",
    "\n",
    "    refined_mask_sitk = refine_segmentation_with_otsu(pet_sitk, lesion_mask_sitk)\n",
    "\n",
    "    os.makedirs(os.path.join(out_dir, subject_id), exist_ok=True)\n",
    "    refined_mask_path = os.path.join(out_dir, subject_id, f'{subject_id}_seg-lesion-refined.nii.gz')\n",
    "    sitk.WriteImage(refined_mask_sitk, refined_mask_path)\n",
    "\n",
    "else:\n",
    "    print(f'Files for {subject_id} not found. Skipping...')"
   ]
  },
  {
   "cell_type": "markdown",
   "id": "5869ce20",
   "metadata": {},
   "source": [
    "#### Pipeline：完成了全部数据的 lesion segmentation refine处理"
   ]
  },
  {
   "cell_type": "code",
   "execution_count": null,
   "id": "0cbbed75",
   "metadata": {},
   "outputs": [],
   "source": [
    "import os \n",
    "from tqdm import tqdm\n",
    "\n",
    "root_dir = '../../data/0_nifti'\n",
    "subject_ids = os.listdir(root_dir)\n",
    "\n",
    "pbar = tqdm(subject_ids, desc='Refining segmentations')\n",
    "\n",
    "for subject_id in pbar:\n",
    "    pbar.set_description(f'Processing {subject_id}')\n",
    "\n",
    "    pet_path = os.path.join(root_dir, subject_id, f'{subject_id}_pet.nii.gz')\n",
    "    lesion_mask_path = os.path.join(root_dir, subject_id, f'{subject_id}_seg-lesion.nii.gz')\n",
    "\n",
    "    if os.path.exists(pet_path) and os.path.exists(lesion_mask_path):\n",
    "        print(f'Processing {subject_id}...')\n",
    "        pet_sitk = sitk.ReadImage(pet_path)\n",
    "        lesion_mask_sitk = sitk.ReadImage(lesion_mask_path)\n",
    "\n",
    "        refined_mask_sitk = refine_segmentation_with_otsu(pet_sitk, lesion_mask_sitk)\n",
    "\n",
    "        os.makedirs(os.path.join(root_dir, subject_id), exist_ok=True)\n",
    "        refined_mask_path = os.path.join(root_dir, subject_id, f'{subject_id}_seg-lesion-refined.nii.gz')\n",
    "        sitk.WriteImage(refined_mask_sitk, refined_mask_path)\n",
    "\n",
    "    else:\n",
    "        tqdm.write(f'Files for {subject_id} not found. Skipping...')\n",
    "\n",
    "pbar.set_description('Processing complete.')\n",
    "pbar.close()"
   ]
  },
  {
   "cell_type": "markdown",
   "id": "535f4200",
   "metadata": {},
   "source": [
    "#### 验证是否全部完成"
   ]
  },
  {
   "cell_type": "code",
   "execution_count": 7,
   "id": "fc892fc9",
   "metadata": {},
   "outputs": [
    {
     "name": "stdout",
     "output_type": "stream",
     "text": [
      "Found 1030 refined segmentation files.\n"
     ]
    }
   ],
   "source": [
    "from glob import glob\n",
    "\n",
    "file_list = glob(os.path.join(root_dir, 'sub-*', '*_seg-lesion-refined.nii.gz'))\n",
    "\n",
    "print(f'Found {len(file_list)} refined segmentation files.')"
   ]
  }
 ],
 "metadata": {
  "kernelspec": {
   "display_name": "totalseg",
   "language": "python",
   "name": "python3"
  },
  "language_info": {
   "codemirror_mode": {
    "name": "ipython",
    "version": 3
   },
   "file_extension": ".py",
   "mimetype": "text/x-python",
   "name": "python",
   "nbconvert_exporter": "python",
   "pygments_lexer": "ipython3",
   "version": "3.10.16"
  }
 },
 "nbformat": 4,
 "nbformat_minor": 5
}
