{
 "cells": [
  {
   "cell_type": "markdown",
   "id": "185e5a55",
   "metadata": {},
   "source": [
    "# PET Voxel Value to SUV Conversion\n",
    "\n",
    "This notebook converts the voxel values in preprocessed PET images into Standardized Uptake Values (SUV). This is a critical step for standardizing the PET imaging data, making it comparable across different patients and scans.\n",
    "\n",
    "The process involves the following steps:\n",
    "1.  **Load Participant Data**: The `participants.tsv` file is loaded to retrieve the `subject_id` and the corresponding `SUV_ratio` for each patient.\n",
    "2.  **Iterate Through Subjects**: The script loops through each subject listed in the participants table.\n",
    "3.  **Apply SUV Conversion**: For each subject, the corresponding preprocessed PET image (`..._pet.nii.gz`) is loaded. Each voxel in the image is then multiplied by the patient-specific `SUV_ratio`.\n",
    "4.  **Save SUV-scaled Image**: The new image, now in SUV scale, is saved with a `_desc-suv` suffix (`..._pet_desc-suv.nii.gz`) in the same directory. This preserves the original image file.\n"
   ]
  },
  {
   "cell_type": "code",
   "execution_count": 1,
   "id": "ccd5a6b3",
   "metadata": {},
   "outputs": [
    {
     "name": "stdout",
     "output_type": "stream",
     "text": [
      "Successfully loaded 1061 records from ../../metadata/participants.tsv\n"
     ]
    },
    {
     "data": {
      "application/vnd.jupyter.widget-view+json": {
       "model_id": "9fcd6a7dc65f43738abbf302d87143cf",
       "version_major": 2,
       "version_minor": 0
      },
      "text/plain": [
       "Converting PET to SUV:   0%|          | 0/1058 [00:00<?, ?it/s]"
      ]
     },
     "metadata": {},
     "output_type": "display_data"
    },
    {
     "name": "stdout",
     "output_type": "stream",
     "text": [
      "\\nConversion process finished.\n"
     ]
    }
   ],
   "source": [
    "\n",
    "import pandas as pd\n",
    "import SimpleITK as sitk\n",
    "import os\n",
    "from tqdm.notebook import tqdm\n",
    "\n",
    "# --- Configuration ---\n",
    "participants_path = '../../metadata/participants.tsv'\n",
    "preprocessed_dir = '../../data/1_preprocessed'\n",
    "\n",
    "# --- Load Data ---\n",
    "try:\n",
    "    df_participants = pd.read_csv(participants_path, sep='\\t', dtype={'subject_id': str})\n",
    "    print(f\"Successfully loaded {len(df_participants)} records from {participants_path}\")\n",
    "except FileNotFoundError:\n",
    "    print(f\"ERROR: The file {participants_path} was not found. Please ensure the path is correct.\")\n",
    "    # Stop execution if the file is not found\n",
    "    # This prevents further errors down the line.\n",
    "    # In a real script, you might raise an exception here.\n",
    "    df_participants = pd.DataFrame()\n",
    "\n",
    "# --- Main Processing Loop ---\n",
    "if not df_participants.empty:\n",
    "    # Create a dictionary for quick lookup of SUV ratios\n",
    "    suv_ratio_map = pd.to_numeric(df_participants.set_index('subject_id')['SUV_ratio'], errors='coerce').to_dict()\n",
    "\n",
    "    # Use tqdm to create a progress bar\n",
    "    for subject_id, suv_ratio in tqdm(suv_ratio_map.items(), desc=\"Converting PET to SUV\"):\n",
    "        \n",
    "        # Check if suv_ratio is valid\n",
    "        if pd.isna(suv_ratio):\n",
    "            print(f\"Skipping {subject_id}: Invalid or missing SUV_ratio.\")\n",
    "            continue\n",
    "\n",
    "        # Define file paths\n",
    "        subject_dir = os.path.join(preprocessed_dir, f\"sub-{subject_id}\")\n",
    "        pet_path = os.path.join(subject_dir, f\"sub-{subject_id}_pet.nii.gz\")\n",
    "        output_path = os.path.join(subject_dir, f\"sub-{subject_id}_pet_desc-suv.nii.gz\")\n",
    "\n",
    "        # Check if the source PET file exists\n",
    "        if not os.path.exists(pet_path):\n",
    "            # print(f\"Warning: PET file not found for subject {subject_id} at {pet_path}. Skipping.\")\n",
    "            continue\n",
    "            \n",
    "        try:\n",
    "            # Read the PET image\n",
    "            pet_image = sitk.ReadImage(pet_path, sitk.sitkFloat64)\n",
    "            \n",
    "            # Multiply by the SUV ratio\n",
    "            suv_image = pet_image * suv_ratio\n",
    "            \n",
    "            # Save the new image\n",
    "            sitk.WriteImage(suv_image, output_path)\n",
    "            \n",
    "        except Exception as e:\n",
    "            print(f\"ERROR processing {subject_id}: {e}\")\n",
    "\n",
    "    print(\"\\\\nConversion process finished.\")\n",
    "else:\n",
    "    print(\"Could not proceed with conversion as participant data failed to load.\")\n"
   ]
  },
  {
   "cell_type": "code",
   "execution_count": 2,
   "id": "51cd9055",
   "metadata": {},
   "outputs": [
    {
     "name": "stdout",
     "output_type": "stream",
     "text": [
      "Found 5 subjects to copy: ['AKHRETTICHMONIKA20130930', 'AKHFRHWALDELFRIEDE20190319', 'AKHDOPPELREITERKARL20230123', 'NM042', 'NM247']\n"
     ]
    },
    {
     "data": {
      "application/vnd.jupyter.widget-view+json": {
       "model_id": "ef587a12c42841ae8d9bce9f9b827bae",
       "version_major": 2,
       "version_minor": 0
      },
      "text/plain": [
       "Copying files for inspection:   0%|          | 0/5 [00:00<?, ?it/s]"
      ]
     },
     "metadata": {},
     "output_type": "display_data"
    },
    {
     "name": "stdout",
     "output_type": "stream",
     "text": [
      "\\nFile copying process finished.\n"
     ]
    }
   ],
   "source": [
    "\n",
    "import shutil\n",
    "\n",
    "# --- Configuration for Copying Files ---\n",
    "source_subjects_dir = '../../outputs/temp_resample_test'\n",
    "output_dir = '../../outputs/temp_suv_convert'\n",
    "preprocessed_base_dir = '../../data/1_preprocessed'\n",
    "\n",
    "# --- Get Subject IDs from the source directory ---\n",
    "if os.path.exists(source_subjects_dir):\n",
    "    subject_sub_dirs = [d for d in os.listdir(source_subjects_dir) if os.path.isdir(os.path.join(source_subjects_dir, d))]\n",
    "    subject_ids = [d.replace('sub-', '') for d in subject_sub_dirs]\n",
    "    print(f\"Found {len(subject_ids)} subjects to copy: {subject_ids}\")\n",
    "\n",
    "    # --- Create output directory if it doesn't exist ---\n",
    "    os.makedirs(output_dir, exist_ok=True)\n",
    "\n",
    "    # --- Copy files for each subject ---\n",
    "    for subject_id in tqdm(subject_ids, desc=\"Copying files for inspection\"):\n",
    "        \n",
    "        # Define subject-specific directories\n",
    "        subject_output_dir = os.path.join(output_dir, f\"sub-{subject_id}\")\n",
    "        os.makedirs(subject_output_dir, exist_ok=True)\n",
    "        \n",
    "        source_data_dir = os.path.join(preprocessed_base_dir, f\"sub-{subject_id}\")\n",
    "\n",
    "        # --- Define file paths ---\n",
    "        # Original PET file\n",
    "        original_pet_path = os.path.join(source_data_dir, f\"sub-{subject_id}_pet.nii.gz\")\n",
    "        # SUV converted PET file\n",
    "        suv_pet_path = os.path.join(source_data_dir, f\"sub-{subject_id}_pet_desc-suv.nii.gz\")\n",
    "\n",
    "        # --- Copy files if they exist ---\n",
    "        # Copy original PET\n",
    "        if os.path.exists(original_pet_path):\n",
    "            shutil.copy(original_pet_path, subject_output_dir)\n",
    "        else:\n",
    "            print(f\"Warning: Original PET file not found for {subject_id} at {original_pet_path}\")\n",
    "\n",
    "        # Copy SUV converted PET\n",
    "        if os.path.exists(suv_pet_path):\n",
    "            shutil.copy(suv_pet_path, subject_output_dir)\n",
    "        else:\n",
    "            print(f\"Warning: SUV PET file not found for {subject_id} at {suv_pet_path}\")\n",
    "\n",
    "    print(\"\\\\nFile copying process finished.\")\n",
    "else:\n",
    "    print(f\"ERROR: The source directory {source_subjects_dir} was not found.\")\n"
   ]
  }
 ],
 "metadata": {
  "kernelspec": {
   "display_name": "totalseg",
   "language": "python",
   "name": "python3"
  },
  "language_info": {
   "codemirror_mode": {
    "name": "ipython",
    "version": 3
   },
   "file_extension": ".py",
   "mimetype": "text/x-python",
   "name": "python",
   "nbconvert_exporter": "python",
   "pygments_lexer": "ipython3",
   "version": "3.10.16"
  }
 },
 "nbformat": 4,
 "nbformat_minor": 5
}
