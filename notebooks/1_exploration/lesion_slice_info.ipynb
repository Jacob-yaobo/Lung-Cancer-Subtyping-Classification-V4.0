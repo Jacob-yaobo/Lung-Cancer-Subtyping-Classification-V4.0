{
 "cells": [
  {
   "cell_type": "code",
   "execution_count": null,
   "id": "f432c0cf",
   "metadata": {},
   "outputs": [
    {
     "name": "stderr",
     "output_type": "stream",
     "text": [
      "100%|██████████| 1030/1030 [00:08<00:00, 121.49it/s]"
     ]
    },
    {
     "name": "stdout",
     "output_type": "stream",
     "text": [
      "Lesion slice information saved to /home/yaobo/Project/Lung-Cancer-Subtyping-Classification-V4.0/metadata/lesion_slice_info.json\n"
     ]
    },
    {
     "name": "stderr",
     "output_type": "stream",
     "text": [
      "\n"
     ]
    }
   ],
   "source": [
    "import os\n",
    "import json\n",
    "import nibabel as nib\n",
    "import numpy as np\n",
    "from tqdm import tqdm\n",
    "\n",
    "# Define paths\n",
    "preprocessed_dir = '/home/yaobo/Project/Lung-Cancer-Subtyping-Classification-V4.0/data/1_preprocessed'\n",
    "output_file = '/home/yaobo/Project/Lung-Cancer-Subtyping-Classification-V4.0/metadata/lesion_slice_info.json'\n",
    "\n",
    "# Get the list of subjects\n",
    "subjects = [d for d in os.listdir(preprocessed_dir) if os.path.isdir(os.path.join(preprocessed_dir, d)) and d.startswith('sub-')]\n",
    "\n",
    "lesion_slice_info = {}\n",
    "\n",
    "for subject in tqdm(subjects):\n",
    "    subject_id = subject.split('-')[1]\n",
    "    seg_file_path = os.path.join(preprocessed_dir, subject, f'{subject}_seg-lesion-refined.nii.gz')\n",
    "    \n",
    "    if os.path.exists(seg_file_path):\n",
    "        # Load the segmentation file\n",
    "        seg_img = nib.load(seg_file_path)\n",
    "        seg_data = seg_img.get_fdata()\n",
    "        \n",
    "        # Find slices with non-zero values (lesion mask)\n",
    "        non_zero_slices = np.where(np.any(seg_data, axis=(0, 1)))[0]\n",
    "        \n",
    "        lesion_slice_info[subject_id] = non_zero_slices.tolist()\n",
    "\n",
    "# Save the dictionary to a JSON file\n",
    "with open(output_file, 'w') as f:\n",
    "    json.dump(lesion_slice_info, f, indent=4)\n",
    "\n",
    "print(f\"Lesion slice information saved to {output_file}\")\n"
   ]
  }
 ],
 "metadata": {
  "kernelspec": {
   "display_name": "totalseg",
   "language": "python",
   "name": "python3"
  },
  "language_info": {
   "codemirror_mode": {
    "name": "ipython",
    "version": 3
   },
   "file_extension": ".py",
   "mimetype": "text/x-python",
   "name": "python",
   "nbconvert_exporter": "python",
   "pygments_lexer": "ipython3",
   "version": "3.10.16"
  }
 },
 "nbformat": 4,
 "nbformat_minor": 5
}
