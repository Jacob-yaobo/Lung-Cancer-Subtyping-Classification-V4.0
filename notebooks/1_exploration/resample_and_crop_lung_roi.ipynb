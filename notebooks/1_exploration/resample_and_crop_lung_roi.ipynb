{
 "cells": [
  {
   "cell_type": "markdown",
   "id": "1292d5ee",
   "metadata": {},
   "source": [
    "# Resampling with SimpleITK\n",
    "\n",
    "This notebook demonstrates how to resample a NIfTI image using SimpleITK. Resampling is a crucial preprocessing step to ensure that all images in a dataset have the same voxel spacing."
   ]
  },
  {
   "cell_type": "markdown",
   "id": "72b4add4",
   "metadata": {},
   "source": [
    "## 1. Import Libraries\n",
    "\n",
    "Let's start by importing the necessary libraries. We'll need `SimpleITK` for resampling and `os` for handling file paths."
   ]
  },
  {
   "cell_type": "code",
   "execution_count": 2,
   "id": "9548e0d7",
   "metadata": {},
   "outputs": [],
   "source": [
    "import SimpleITK as sitk\n",
    "import os"
   ]
  },
  {
   "cell_type": "markdown",
   "id": "f854ddb8",
   "metadata": {},
   "source": [
    "## 2. Define the Resampling Function\n",
    "\n",
    "We'll create a function that takes a SimpleITK image and a new spacing as input. It will then use the `Resample` filter to change the image's voxel spacing. We'll use linear interpolation for this process."
   ]
  },
  {
   "cell_type": "markdown",
   "id": "fb0ee6c3",
   "metadata": {},
   "source": [
    "### 2.1 Calculate Resampling Template\n",
    "\n",
    "This function computes a template image that defines the target grid for resampling. It takes two images (e.g., CT and PET), finds a bounding box that encompasses both in physical space, and creates a new reference image with the desired target spacing. This ensures both modalities are aligned perfectly after resampling."
   ]
  },
  {
   "cell_type": "code",
   "execution_count": 3,
   "id": "382e4458",
   "metadata": {},
   "outputs": [],
   "source": [
    "def calculate_resample_template(ct_image, pet_image, target_spacing):\n",
    "    \"\"\"\n",
    "    Computes a template image for resampling based on the physical space of CT and PET images.\n",
    "\n",
    "    :param ct_image: SimpleITK image of the CT scan.\n",
    "    :param pet_image: SimpleITK image of the PET scan.\n",
    "    :param target_spacing: The desired target spacing as a list or tuple.\n",
    "    :return: A SimpleITK image to be used as a resampling template.\n",
    "    \"\"\"\n",
    "    # Use numpy for vector operations\n",
    "    import numpy as np\n",
    "\n",
    "    # Get physical boundaries of CT image\n",
    "    ct_origin = np.array(ct_image.GetOrigin())\n",
    "    ct_size = np.array(ct_image.GetSize())\n",
    "    ct_spacing = np.array(ct_image.GetSpacing())\n",
    "    ct_end = ct_origin + (ct_size - 1) * ct_spacing\n",
    "\n",
    "    # Get physical boundaries of PET image\n",
    "    pet_origin = np.array(pet_image.GetOrigin())\n",
    "    pet_size = np.array(pet_image.GetSize())\n",
    "    pet_spacing = np.array(pet_image.GetSpacing())\n",
    "    pet_end = pet_origin + (pet_size - 1) * pet_spacing\n",
    "\n",
    "    # Determine the combined bounding box in physical space\n",
    "    combined_origin = np.minimum(ct_origin, pet_origin)\n",
    "    combined_end = np.maximum(ct_end, pet_end)\n",
    "\n",
    "    # Calculate the size of the new template image\n",
    "    new_size = np.ceil((combined_end - combined_origin) / target_spacing).astype(int)\n",
    "\n",
    "    # Create the template image\n",
    "    template_image = sitk.Image([int(s) for s in new_size], sitk.sitkFloat64)\n",
    "    template_image.SetOrigin(combined_origin.tolist())\n",
    "    template_image.SetSpacing(target_spacing)\n",
    "    # Assume both images have the same orientation\n",
    "    template_image.SetDirection(ct_image.GetDirection())\n",
    "\n",
    "    return template_image"
   ]
  },
  {
   "cell_type": "code",
   "execution_count": 4,
   "id": "fc605f9b",
   "metadata": {},
   "outputs": [],
   "source": [
    "def resample_image(image: sitk.Image, \n",
    "                           template_image: sitk.Image, \n",
    "                           default_value: float, \n",
    "                           interpolator: int = sitk.sitkLinear) -> sitk.Image:\n",
    "    \"\"\"\n",
    "    Resamples an image to match the grid of a template image with a specific default value.\n",
    "\n",
    "    :param image: The SimpleITK image to resample.\n",
    "    :param template_image: A SimpleITK image defining the target grid.\n",
    "    :param default_value: The pixel value to use for regions outside the original image.\n",
    "    :param interpolator: The interpolator to use (e.g., sitk.sitkLinear, sitk.sitkNearestNeighbor).\n",
    "    :return: The resampled SimpleITK image.\n",
    "    \"\"\"\n",
    "    resampler = sitk.ResampleImageFilter()\n",
    "    resampler.SetReferenceImage(template_image)\n",
    "    resampler.SetInterpolator(interpolator)\n",
    "    resampler.SetDefaultPixelValue(default_value) \n",
    "\n",
    "    return resampler.Execute(image)"
   ]
  },
  {
   "cell_type": "markdown",
   "id": "f4d7f2f4",
   "metadata": {},
   "source": [
    "## 3. Random Process 5 subjects to test function"
   ]
  },
  {
   "cell_type": "code",
   "execution_count": 5,
   "id": "775c111c",
   "metadata": {},
   "outputs": [],
   "source": [
    "import random\n",
    "from tqdm import tqdm\n",
    "from pathlib import Path\n",
    "import SimpleITK as sitk\n",
    "\n",
    "\n",
    "def process_subject(subject_dir: Path, output_dir: Path, target_spacing: list):\n",
    "    \"\"\"\n",
    "    Processes a single subject: loads, resamples, and saves CT, PET, and segmentation images.\n",
    "    \"\"\"\n",
    "    subject_id = subject_dir.name\n",
    "    \n",
    "    # 1. 定义并检查所有文件路径\n",
    "    path_map = {\n",
    "        \"ct\": subject_dir / f\"{subject_id}_ct.nii.gz\",\n",
    "        \"pet\": subject_dir / f\"{subject_id}_pet.nii.gz\",\n",
    "        \"seg_lung\": subject_dir / f\"{subject_id}_seg-lung.nii.gz\",\n",
    "        \"seg_lesion\": subject_dir / f\"{subject_id}_seg-lesion.nii.gz\",\n",
    "        \"seg_lesion_refined\": subject_dir / f\"{subject_id}_seg-lesion-refined.nii.gz\",\n",
    "    }\n",
    "\n",
    "    # 检查核心文件是否存在，如果不存在则跳过\n",
    "    if not path_map[\"ct\"].exists() or not path_map[\"pet\"].exists():\n",
    "        print(f\"Warning: Skipping {subject_id} due to missing CT or PET.\")\n",
    "        return\n",
    "\n",
    "    # 2. 读取所有存在的图像\n",
    "    images = {}\n",
    "    for key, path in path_map.items():\n",
    "        if path.exists():\n",
    "            images[key] = sitk.ReadImage(str(path)) # sitk 需要字符串路径\n",
    "        else:\n",
    "            print(f\"Info: File not found for {subject_id}: {path.name}\")\n",
    "    \n",
    "    # 3. 计算重采样模板 (必须有CT和PET)\n",
    "    template_image = calculate_resample_template(images[\"ct\"], images[\"pet\"], target_spacing)\n",
    "\n",
    "    # 4. 执行重采样\n",
    "    resampled_images = {}\n",
    "    resampled_images[\"ct\"] = resample_image(images[\"ct\"], template_image, default_value=-1024, interpolator=sitk.sitkLinear)\n",
    "    resampled_images[\"pet\"] = resample_image(images[\"pet\"], template_image, default_value=0, interpolator=sitk.sitkLinear)\n",
    "    \n",
    "    # 对所有存在的分割掩码进行重采样\n",
    "    for key in [\"seg_lung\", \"seg_lesion\", \"seg_lesion_refined\"]:\n",
    "        if key in images:\n",
    "            resampled_images[key] = resample_image(images[key], template_image, default_value=0, interpolator=sitk.sitkNearestNeighbor)\n",
    "\n",
    "    # 5. 保存结果\n",
    "    subject_output_dir = output_dir / subject_id\n",
    "    subject_output_dir.mkdir(exist_ok=True, parents=True)\n",
    "    \n",
    "    for key, img in resampled_images.items():\n",
    "        output_filename = path_map[key].name # 保持原始文件名\n",
    "        sitk.WriteImage(img, str(subject_output_dir / output_filename))"
   ]
  },
  {
   "cell_type": "code",
   "execution_count": 6,
   "id": "f567531f",
   "metadata": {},
   "outputs": [
    {
     "name": "stdout",
     "output_type": "stream",
     "text": [
      "随机抽取的5个病例进行测试:\n",
      "- sub-AKHFRHWALDELFRIEDE20190319\n",
      "- sub-AKHRETTICHMONIKA20130930\n",
      "- sub-NM247\n",
      "- sub-NM042\n",
      "- sub-AKHDOPPELREITERKARL20230123\n"
     ]
    },
    {
     "name": "stderr",
     "output_type": "stream",
     "text": [
      "Processing sub-AKHFRHWALDELFRIEDE20190319:   0%|          | 0/5 [00:00<?, ?it/s]"
     ]
    },
    {
     "name": "stderr",
     "output_type": "stream",
     "text": [
      "Processing sub-AKHDOPPELREITERKARL20230123: 100%|██████████| 5/5 [01:10<00:00, 14.03s/it]\n",
      "Processing sub-AKHDOPPELREITERKARL20230123: 100%|██████████| 5/5 [01:10<00:00, 14.03s/it]\n"
     ]
    }
   ],
   "source": [
    "target_spacing = [1.5, 1.5, 3.0]\n",
    "    \n",
    "# 使用 pathlib 进行路径管理\n",
    "project_root = Path.cwd().resolve().parents[1]\n",
    "source_dir = project_root / 'data' / '0_nifti'\n",
    "output_dir_test = project_root / 'outputs' / 'temp_resample_test'\n",
    "output_dir_test.mkdir(exist_ok=True, parents=True)\n",
    "\n",
    "all_subject_dirs = list(source_dir.glob(\"sub-*/\"))\n",
    "\n",
    "random.seed(42)\n",
    "sample_dirs = random.sample(all_subject_dirs, 5)\n",
    "\n",
    "print(\"随机抽取的5个病例进行测试:\")\n",
    "for d in sample_dirs:\n",
    "    print(f\"- {d.name}\")\n",
    "\n",
    "with tqdm(sample_dirs, desc=\"Processing subjects\") as pbar:\n",
    "    for subject_dir in pbar:\n",
    "        pbar.set_description(f\"Processing {subject_dir.name}\")\n",
    "        try:\n",
    "            process_subject(subject_dir, output_dir_test, target_spacing)\n",
    "        except Exception as e:\n",
    "            print(f\"FATAL ERROR processing {subject_dir.name}: {e}\")"
   ]
  },
  {
   "cell_type": "markdown",
   "id": "cb7d6e11",
   "metadata": {},
   "source": [
    "## Crop\n",
    "add crop function, use seg-lung as bbox to crop"
   ]
  },
  {
   "cell_type": "code",
   "execution_count": null,
   "id": "6486bac1",
   "metadata": {},
   "outputs": [],
   "source": [
    "def crop_to_bounding_box(image: sitk.Image, bounding_box: tuple) -> sitk.Image:\n",
    "    \"\"\"\n",
    "    Crops an image to a given bounding box.\n",
    "\n",
    "    :param image: The SimpleITK image to crop.\n",
    "    :param bounding_box: A tuple containing the start indices and size of the box\n",
    "                        (x_start, y_start, z_start, x_size, y_size, z_size).\n",
    "    :return: The cropped SimpleITK image.\n",
    "    \"\"\"\n",
    "    # The bounding box from LabelShapeStatisticsImageFilter is in the format:\n",
    "    # (x_start, y_start, z_start, x_size, y_size, z_size)\n",
    "    # sitk.RegionOfInterest requires two tuples: size and index.\n",
    "    start_index = bounding_box[0:3]\n",
    "    size = bounding_box[3:6]\n",
    "    \n",
    "    return sitk.RegionOfInterest(image, size, start_index)"
   ]
  },
  {
   "cell_type": "markdown",
   "id": "56549c4b",
   "metadata": {},
   "source": [
    "### Get Bounding Box from Mask\n",
    "\n",
    "This function calculates the bounding box of the largest connected component in a binary mask. It's useful for finding the region of interest, like the lungs, and ignoring smaller, irrelevant artifacts."
   ]
  },
  {
   "cell_type": "code",
   "execution_count": null,
   "id": "cee1af58",
   "metadata": {},
   "outputs": [],
   "source": [
    "def get_bounding_box_from_mask(mask: sitk.Image) -> tuple:\n",
    "    \"\"\"\n",
    "    Calculates the bounding box of the largest connected component in a binary mask.\n",
    "\n",
    "    :param mask: The binary SimpleITK mask image.\n",
    "    :return: A tuple representing the bounding box (x_start, y_start, z_start, x_size, y_size, z_size).\n",
    "    \"\"\"\n",
    "    # Ensure the mask is of an unsigned integer type for connected component analysis\n",
    "    if mask.GetPixelID() not in [sitk.sitkUInt8, sitk.sitkUInt16, sitk.sitkUInt32, sitk.sitkUInt64]:\n",
    "        mask = sitk.Cast(mask, sitk.sitkUInt8)\n",
    "\n",
    "    # Find all connected components in the mask\n",
    "    cc_filter = sitk.ConnectedComponentImageFilter()\n",
    "    labeled_mask = cc_filter.Execute(mask)\n",
    "    \n",
    "    # Get statistics for each label\n",
    "    label_stats = sitk.LabelShapeStatisticsImageFilter()\n",
    "    label_stats.Execute(labeled_mask)\n",
    "    \n",
    "    # Find the label of the largest component (excluding background label 0)\n",
    "    labels = label_stats.GetLabels()\n",
    "    if 0 in labels:\n",
    "        labels.remove(0)\n",
    "    \n",
    "    if not labels:\n",
    "        raise ValueError(\"No foreground objects found in the mask to calculate bounding box.\")\n",
    "\n",
    "    largest_label = max(labels, key=label_stats.GetPhysicalSize)\n",
    "    \n",
    "    # Get the bounding box of the largest component\n",
    "    bounding_box = label_stats.GetBoundingBox(largest_label)\n",
    "    \n",
    "    return bounding_box"
   ]
  }
 ],
 "metadata": {
  "kernelspec": {
   "display_name": "totalseg",
   "language": "python",
   "name": "python3"
  },
  "language_info": {
   "codemirror_mode": {
    "name": "ipython",
    "version": 3
   },
   "file_extension": ".py",
   "mimetype": "text/x-python",
   "name": "python",
   "nbconvert_exporter": "python",
   "pygments_lexer": "ipython3",
   "version": "3.10.16"
  }
 },
 "nbformat": 4,
 "nbformat_minor": 5
}
